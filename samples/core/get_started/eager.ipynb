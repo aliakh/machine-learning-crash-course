{
  "nbformat": 4,
  "nbformat_minor": 0,
  "metadata": {
    "colab": {
      "name": "eager.ipynb",
      "version": "0.3.2",
      "provenance": []
    },
    "kernelspec": {
      "name": "python3",
      "display_name": "Python 3"
    },
    "accelerator": "GPU"
  },
  "cells": [
    {
      "metadata": {
        "id": "JtEZ1pCPn--z",
        "colab_type": "text"
      },
      "cell_type": "markdown",
      "source": [
        "# Get Started with Eager Execution\n",
        "\n"
      ]
    },
    {
      "metadata": {
        "id": "yNr7H-AIoLOR",
        "colab_type": "text"
      },
      "cell_type": "markdown",
      "source": [
        "## Setup program"
      ]
    },
    {
      "metadata": {
        "id": "6qoYFqQ89aV3",
        "colab_type": "text"
      },
      "cell_type": "markdown",
      "source": [
        "### Install the latest version of TensorFlow\n",
        "\n",
        "This tutorial uses eager execution, which is available in [TensorFlow 1.8](https://www.tensorflow.org/install/). (You may need to restart the runtime after upgrading.)"
      ]
    },
    {
      "metadata": {
        "id": "jBmKxLVy9Uhg",
        "colab_type": "code",
        "colab": {
          "base_uri": "https://localhost:8080/",
          "height": 272
        },
        "outputId": "7351735e-ec29-4c66-f17a-76015967c379"
      },
      "cell_type": "code",
      "source": [
        "!pip install --upgrade tensorflow"
      ],
      "execution_count": 1,
      "outputs": [
        {
          "output_type": "stream",
          "text": [
            "Requirement already up-to-date: tensorflow in /usr/local/lib/python3.6/dist-packages (1.9.0rc1)\r\n",
            "Requirement not upgraded as not directly required: grpcio>=1.8.6 in /usr/local/lib/python3.6/dist-packages (from tensorflow) (1.12.1)\r\n",
            "Requirement not upgraded as not directly required: wheel>=0.26 in /usr/local/lib/python3.6/dist-packages (from tensorflow) (0.31.1)\n",
            "Requirement not upgraded as not directly required: absl-py>=0.1.6 in /usr/local/lib/python3.6/dist-packages (from tensorflow) (0.2.2)\n",
            "Requirement not upgraded as not directly required: gast>=0.2.0 in /usr/local/lib/python3.6/dist-packages (from tensorflow) (0.2.0)\n",
            "Requirement not upgraded as not directly required: protobuf>=3.4.0 in /usr/local/lib/python3.6/dist-packages (from tensorflow) (3.6.0)\n",
            "Requirement not upgraded as not directly required: setuptools<=39.1.0 in /usr/local/lib/python3.6/dist-packages (from tensorflow) (39.1.0)\n",
            "Requirement not upgraded as not directly required: tensorboard<1.10.0,>=1.9.0 in /usr/local/lib/python3.6/dist-packages (from tensorflow) (1.9.0)\n",
            "Requirement not upgraded as not directly required: termcolor>=1.1.0 in /usr/local/lib/python3.6/dist-packages (from tensorflow) (1.1.0)\n",
            "Requirement not upgraded as not directly required: six>=1.10.0 in /usr/local/lib/python3.6/dist-packages (from tensorflow) (1.11.0)\n",
            "Requirement not upgraded as not directly required: astor>=0.6.0 in /usr/local/lib/python3.6/dist-packages (from tensorflow) (0.6.2)\n",
            "Requirement not upgraded as not directly required: numpy>=1.13.3 in /usr/local/lib/python3.6/dist-packages (from tensorflow) (1.14.5)\n",
            "Requirement not upgraded as not directly required: werkzeug>=0.11.10 in /usr/local/lib/python3.6/dist-packages (from tensorboard<1.10.0,>=1.9.0->tensorflow) (0.14.1)\n",
            "Requirement not upgraded as not directly required: markdown>=2.6.8 in /usr/local/lib/python3.6/dist-packages (from tensorboard<1.10.0,>=1.9.0->tensorflow) (2.6.11)\n"
          ],
          "name": "stdout"
        }
      ]
    },
    {
      "metadata": {
        "id": "1J3AuPBT9gyR",
        "colab_type": "text"
      },
      "cell_type": "markdown",
      "source": [
        "### Configure imports and eager execution\n",
        "\n",
        "Import the required Python modules, including TensorFlow, and enable eager execution for this program. Eager execution makes TensorFlow evaluate operations immediately, returning concrete values instead of creating a [computational graph](https://www.tensorflow.org/programmers_guide/graphs) that is executed later. If you are used to a REPL or the `python` interactive console, you'll feel at home.\n",
        "\n",
        "Once eager execution is enabled, it *cannot* be disabled within the same program. See the [eager execution guide](https://www.tensorflow.org/programmers_guide/eager) for more details."
      ]
    },
    {
      "metadata": {
        "id": "g4Wzg69bnwK2",
        "colab_type": "code",
        "colab": {
          "base_uri": "https://localhost:8080/",
          "height": 50
        },
        "outputId": "e41e8d85-328f-457f-f0ae-1b969a491dce"
      },
      "cell_type": "code",
      "source": [
        "from __future__ import absolute_import, division, print_function\n",
        "\n",
        "import os\n",
        "import matplotlib.pyplot as plt\n",
        "\n",
        "import tensorflow as tf\n",
        "import tensorflow.contrib.eager as tfe\n",
        "\n",
        "tf.enable_eager_execution()\n",
        "\n",
        "print(\"TensorFlow version: {}\".format(tf.VERSION))\n",
        "print(\"Eager execution: {}\".format(tf.executing_eagerly()))"
      ],
      "execution_count": 2,
      "outputs": [
        {
          "output_type": "stream",
          "text": [
            "TensorFlow version: 1.9.0-rc1\n",
            "Eager execution: True\n"
          ],
          "name": "stdout"
        }
      ]
    },
    {
      "metadata": {
        "id": "Zx7wc0LuuxaJ",
        "colab_type": "text"
      },
      "cell_type": "markdown",
      "source": [
        "## The Iris classification problem\n",
        "\n"
      ]
    },
    {
      "metadata": {
        "id": "3Px6KAg0Jowz",
        "colab_type": "text"
      },
      "cell_type": "markdown",
      "source": [
        "## Import and parse the training dataset\n",
        "\n",
        "We need to download the dataset file and convert it to a structure that can be used by this Python program.\n",
        "\n",
        "### Download the dataset\n",
        "\n",
        "Download the training dataset file using the [tf.keras.utils.get_file](https://www.tensorflow.org/api_docs/python/tf/keras/utils/get_file) function. This returns the file path of the downloaded file."
      ]
    },
    {
      "metadata": {
        "id": "J6c7uEU9rjRM",
        "colab_type": "code",
        "colab": {
          "base_uri": "https://localhost:8080/",
          "height": 34
        },
        "outputId": "852e0dd7-6c9d-4f94-8225-f5e9e722d6a4"
      },
      "cell_type": "code",
      "source": [
        "train_dataset_url = \"http://download.tensorflow.org/data/iris_training.csv\"\n",
        "\n",
        "train_dataset_fp = tf.keras.utils.get_file(fname=os.path.basename(train_dataset_url),\n",
        "                                           origin=train_dataset_url)\n",
        "\n",
        "print(\"Local copy of the dataset file: {}\".format(train_dataset_fp))"
      ],
      "execution_count": 3,
      "outputs": [
        {
          "output_type": "stream",
          "text": [
            "Local copy of the dataset file: /content/.keras/datasets/iris_training.csv\n"
          ],
          "name": "stdout"
        }
      ]
    },
    {
      "metadata": {
        "id": "qnX1-aLors4S",
        "colab_type": "text"
      },
      "cell_type": "markdown",
      "source": [
        "### Inspect the data\n",
        "\n",
        "This dataset, `iris_training.csv`, is a plain text file that stores tabular data formatted as comma-separated values (CSV). Use the `head -n5` command to take a peak at the first five entries:"
      ]
    },
    {
      "metadata": {
        "id": "FQvb_JYdrpPm",
        "colab_type": "code",
        "colab": {
          "base_uri": "https://localhost:8080/",
          "height": 101
        },
        "outputId": "723796f1-b09d-471e-bc1f-45d1e4b37144"
      },
      "cell_type": "code",
      "source": [
        "!head -n5 {train_dataset_fp}"
      ],
      "execution_count": 4,
      "outputs": [
        {
          "output_type": "stream",
          "text": [
            "120,4,setosa,versicolor,virginica\r\n",
            "6.4,2.8,5.6,2.2,2\r\n",
            "5.0,2.3,3.3,1.0,1\r\n",
            "4.9,2.5,4.5,1.7,2\r\n",
            "4.9,3.1,1.5,0.1,0\r\n"
          ],
          "name": "stdout"
        }
      ]
    },
    {
      "metadata": {
        "id": "dqPkQExM2Pwt",
        "colab_type": "text"
      },
      "cell_type": "markdown",
      "source": [
        "### Parse the dataset\n",
        "\n",
        "Since our dataset is a CSV-formatted text file, we'll parse the feature and label values into a format our Python model can use. Each line—or row—in the file is passed to the `parse_csv` function which grabs the first four feature fields and combines them into a single tensor. Then, the last field is parsed as the label. The function returns *both* the `features` and `label` tensors:"
      ]
    },
    {
      "metadata": {
        "id": "2y4OgiIz2CVb",
        "colab_type": "code",
        "colab": {
          "base_uri": "https://localhost:8080/",
          "height": 17
        },
        "outputId": "a2eae2c9-3f14-4d72-91d9-f822978b6ef4"
      },
      "cell_type": "code",
      "source": [
        "def parse_csv(line):\n",
        "  example_defaults = [[0.], [0.], [0.], [0.], [0]]  # sets field types\n",
        "  parsed_line = tf.decode_csv(line, example_defaults)\n",
        "  # First 4 fields are features, combine into single tensor\n",
        "  features = tf.reshape(parsed_line[:-1], shape=(4,))\n",
        "  # Last field is the label\n",
        "  label = tf.reshape(parsed_line[-1], shape=())\n",
        "  return features, label"
      ],
      "execution_count": 5,
      "outputs": []
    },
    {
      "metadata": {
        "id": "hBGYOBS7zfdQ",
        "colab_type": "text"
      },
      "cell_type": "markdown",
      "source": [
        "### Create the training tf.data.Dataset\n",
        "\n"
      ]
    },
    {
      "metadata": {
        "id": "7YYQUa1Hz2pP",
        "colab_type": "code",
        "colab": {
          "base_uri": "https://localhost:8080/",
          "height": 50
        },
        "outputId": "bb119ec4-a3f4-4d75-c924-ca39df303d6e"
      },
      "cell_type": "code",
      "source": [
        "train_dataset = tf.data.TextLineDataset(train_dataset_fp)\n",
        "train_dataset = train_dataset.skip(1)             # skip the first header row\n",
        "train_dataset = train_dataset.map(parse_csv)      # parse each row\n",
        "train_dataset = train_dataset.shuffle(buffer_size=1000)  # randomize\n",
        "train_dataset = train_dataset.batch(32)\n",
        "\n",
        "# View a single example entry from a batch\n",
        "features, label = iter(train_dataset).next()\n",
        "print(\"example features:\", features[0])\n",
        "print(\"example label:\", label[0])"
      ],
      "execution_count": 6,
      "outputs": [
        {
          "output_type": "stream",
          "text": [
            "example features: tf.Tensor([6.5 3.  5.8 2.2], shape=(4,), dtype=float32)\n",
            "example label: tf.Tensor(2, shape=(), dtype=int32)\n"
          ],
          "name": "stdout"
        }
      ]
    },
    {
      "metadata": {
        "id": "LsaVrtNM3Tx5",
        "colab_type": "text"
      },
      "cell_type": "markdown",
      "source": [
        "## Select the type of model\n",
        "\n"
      ]
    },
    {
      "metadata": {
        "id": "W23DIMVPQEBt",
        "colab_type": "text"
      },
      "cell_type": "markdown",
      "source": [
        "### Create a model using Keras\n",
        "\n",
        "The TensorFlow [tf.keras](https://www.tensorflow.org/api_docs/python/tf/keras) API is the preferred way to create models and layers. This makes it easy to build models and experiment while Keras handles the complexity of connecting everything together. See the [Keras documentation](https://keras.io/) for details.\n",
        "\n",
        "The [tf.keras.Sequential](https://www.tensorflow.org/api_docs/python/tf/keras/Sequential) model is a linear stack of layers. Its constructor takes a list of layer instances, in this case, two [Dense](https://www.tensorflow.org/api_docs/python/tf/keras/layers/Dense) layers with 10 nodes each, and an output layer with 3 nodes representing our label predictions. The first layer's `input_shape` parameter corresponds to the amount of features from the dataset, and is required."
      ]
    },
    {
      "metadata": {
        "id": "2fZ6oL2ig3ZK",
        "colab_type": "code",
        "colab": {
          "base_uri": "https://localhost:8080/",
          "height": 17
        },
        "outputId": "b432d857-05bc-4498-b6d4-bee83b955edf"
      },
      "cell_type": "code",
      "source": [
        "model = tf.keras.Sequential([\n",
        "  tf.keras.layers.Dense(10, activation=\"relu\", input_shape=(4,)),  # input shape required\n",
        "  tf.keras.layers.Dense(10, activation=\"relu\"),\n",
        "  tf.keras.layers.Dense(3)\n",
        "])"
      ],
      "execution_count": 7,
      "outputs": []
    },
    {
      "metadata": {
        "id": "FHcbEzMpxbHL",
        "colab_type": "text"
      },
      "cell_type": "markdown",
      "source": [
        "The *[activation function](https://developers.google.com/machine-learning/crash-course/glossary#activation_function)* determines the output of a single neuron to the next layer. This is loosely based on how brain neurons are connected. There are many [available activations](https://www.tensorflow.org/api_docs/python/tf/keras/activations), but [ReLU](https://developers.google.com/machine-learning/crash-course/glossary#ReLU) is common for hidden layers.\n",
        "\n",
        "The ideal number of hidden layers and neurons depends on the problem and the dataset. Like many aspects of machine learning, picking the best shape of the neural network requires a mixture of knowledge and experimentation. As a rule of thumb, increasing the number of hidden layers and neurons typically creates a more powerful model, which requires more data to train effectively."
      ]
    },
    {
      "metadata": {
        "id": "Vzq2E5J2QMtw",
        "colab_type": "text"
      },
      "cell_type": "markdown",
      "source": [
        "## Train the model\n",
        "\n"
      ]
    },
    {
      "metadata": {
        "id": "RaKp8aEjKX6B",
        "colab_type": "text"
      },
      "cell_type": "markdown",
      "source": [
        "### Define the loss and gradient function\n",
        "\n",
        "Both training and evaluation stages need to calculate the model's *[loss](https://developers.google.com/machine-learning/crash-course/glossary#loss)*. This measures how off a model's predictions are from the desired label, in other words, how bad the model is performing. We want to minimize, or optimize, this value.\n",
        "\n",
        "Our model will calculate its loss using the [tf.losses.sparse_softmax_cross_entropy](https://www.tensorflow.org/api_docs/python/tf/losses/sparse_softmax_cross_entropy) function which takes the model's prediction and the desired label. The returned loss value is progressively larger as the prediction gets worse."
      ]
    },
    {
      "metadata": {
        "id": "x57HcKWhKkei",
        "colab_type": "code",
        "colab": {
          "base_uri": "https://localhost:8080/",
          "height": 17
        },
        "outputId": "22cbe042-7951-4ec0-f986-0269dd213e37"
      },
      "cell_type": "code",
      "source": [
        "def loss(model, x, y):\n",
        "  y_ = model(x)\n",
        "  return tf.losses.sparse_softmax_cross_entropy(labels=y, logits=y_)\n",
        "\n",
        "\n",
        "def grad(model, inputs, targets):\n",
        "  with tf.GradientTape() as tape:\n",
        "    loss_value = loss(model, inputs, targets)\n",
        "  return tape.gradient(loss_value, model.variables)"
      ],
      "execution_count": 8,
      "outputs": []
    },
    {
      "metadata": {
        "id": "RtVOFpb21Krp",
        "colab_type": "text"
      },
      "cell_type": "markdown",
      "source": [
        "The `grad` function uses the `loss` function and the [tf.GradientTape](https://www.tensorflow.org/api_docs/python/tf/GradientTape) to record operations that compute the *[gradients](https://developers.google.com/machine-learning/crash-course/glossary#gradient)* used to optimize our model. For more examples of this, see the [eager execution guide](https://www.tensorflow.org/programmers_guide/eager)."
      ]
    },
    {
      "metadata": {
        "id": "lOxFimtlKruu",
        "colab_type": "text"
      },
      "cell_type": "markdown",
      "source": [
        "### Create an optimizer\n",
        "\n"
      ]
    },
    {
      "metadata": {
        "id": "8xxi2NNGKwG_",
        "colab_type": "code",
        "colab": {
          "base_uri": "https://localhost:8080/",
          "height": 17
        },
        "outputId": "7039ccea-ab09-480b-8e33-53f5449dc5f5"
      },
      "cell_type": "code",
      "source": [
        "optimizer = tf.train.GradientDescentOptimizer(learning_rate=0.01)"
      ],
      "execution_count": 9,
      "outputs": []
    },
    {
      "metadata": {
        "id": "7Y2VSELvwAvW",
        "colab_type": "text"
      },
      "cell_type": "markdown",
      "source": [
        "### Training loop\n",
        "\n"
      ]
    },
    {
      "metadata": {
        "id": "AIgulGRUhpto",
        "colab_type": "code",
        "colab": {
          "base_uri": "https://localhost:8080/",
          "height": 370
        },
        "outputId": "e889f183-1c57-4d40-90d4-9658309758e3"
      },
      "cell_type": "code",
      "source": [
        "## Note: Rerunning this cell uses the same model variables\n",
        "\n",
        "# keep results for plotting\n",
        "train_loss_results = []\n",
        "train_accuracy_results = []\n",
        "\n",
        "num_epochs = 201\n",
        "\n",
        "for epoch in range(num_epochs):\n",
        "  epoch_loss_avg = tfe.metrics.Mean()\n",
        "  epoch_accuracy = tfe.metrics.Accuracy()\n",
        "\n",
        "  # Training loop - using batches of 32\n",
        "  for x, y in train_dataset:\n",
        "    # Optimize the model\n",
        "    grads = grad(model, x, y)\n",
        "    optimizer.apply_gradients(zip(grads, model.variables),\n",
        "                              global_step=tf.train.get_or_create_global_step())\n",
        "\n",
        "    # Track progress\n",
        "    epoch_loss_avg(loss(model, x, y))  # add current batch loss\n",
        "    # compare predicted label to actual label\n",
        "    epoch_accuracy(tf.argmax(model(x), axis=1, output_type=tf.int32), y)\n",
        "\n",
        "  # end epoch\n",
        "  train_loss_results.append(epoch_loss_avg.result())\n",
        "  train_accuracy_results.append(epoch_accuracy.result())\n",
        "  \n",
        "  if epoch % 10 == 0:\n",
        "    print(\"Epoch {:03d}: Loss: {:.3f}, Accuracy: {:.3%}\".format(epoch,\n",
        "                                                                epoch_loss_avg.result(),\n",
        "                                                                epoch_accuracy.result()))"
      ],
      "execution_count": 10,
      "outputs": [
        {
          "output_type": "stream",
          "text": [
            "Epoch 000: Loss: 1.660, Accuracy: 35.000%\n",
            "Epoch 010: Loss: 0.938, Accuracy: 70.000%\n",
            "Epoch 020: Loss: 0.787, Accuracy: 70.000%\n",
            "Epoch 030: Loss: 0.658, Accuracy: 70.000%\n",
            "Epoch 040: Loss: 0.555, Accuracy: 70.000%\n",
            "Epoch 050: Loss: 0.487, Accuracy: 73.333%\n",
            "Epoch 060: Loss: 0.429, Accuracy: 83.333%\n",
            "Epoch 070: Loss: 0.394, Accuracy: 86.667%\n",
            "Epoch 080: Loss: 0.357, Accuracy: 91.667%\n",
            "Epoch 090: Loss: 0.332, Accuracy: 93.333%\n",
            "Epoch 100: Loss: 0.310, Accuracy: 95.000%\n",
            "Epoch 110: Loss: 0.282, Accuracy: 95.833%\n",
            "Epoch 120: Loss: 0.258, Accuracy: 95.833%\n",
            "Epoch 130: Loss: 0.237, Accuracy: 96.667%\n",
            "Epoch 140: Loss: 0.222, Accuracy: 95.833%\n",
            "Epoch 150: Loss: 0.202, Accuracy: 96.667%\n",
            "Epoch 160: Loss: 0.188, Accuracy: 97.500%\n",
            "Epoch 170: Loss: 0.171, Accuracy: 97.500%\n",
            "Epoch 180: Loss: 0.164, Accuracy: 98.333%\n",
            "Epoch 190: Loss: 0.159, Accuracy: 96.667%\n",
            "Epoch 200: Loss: 0.138, Accuracy: 99.167%\n"
          ],
          "name": "stdout"
        }
      ]
    },
    {
      "metadata": {
        "id": "2FQHVUnm_rjw",
        "colab_type": "text"
      },
      "cell_type": "markdown",
      "source": [
        "### Visualize the loss function over time"
      ]
    },
    {
      "metadata": {
        "id": "agjvNd2iUGFn",
        "colab_type": "code",
        "colab": {
          "base_uri": "https://localhost:8080/",
          "height": 558
        },
        "outputId": "e1c4e36d-908e-4c20-9b5d-933b16006683"
      },
      "cell_type": "code",
      "source": [
        "fig, axes = plt.subplots(2, sharex=True, figsize=(12, 8))\n",
        "fig.suptitle('Training Metrics')\n",
        "\n",
        "axes[0].set_ylabel(\"Loss\", fontsize=14)\n",
        "axes[0].plot(train_loss_results)\n",
        "\n",
        "axes[1].set_ylabel(\"Accuracy\", fontsize=14)\n",
        "axes[1].set_xlabel(\"Epoch\", fontsize=14)\n",
        "axes[1].plot(train_accuracy_results)\n",
        "\n",
        "plt.show()"
      ],
      "execution_count": 11,
      "outputs": [
        {
          "output_type": "display_data",
          "data": {
            "image/png": "[encoded data removed]",
            "text/plain": [
              "<matplotlib.figure.Figure at 0x7f8e10639f28>"
            ]
          },
          "metadata": {
            "tags": []
          }
        }
      ]
    },
    {
      "metadata": {
        "id": "Zg8GoMZhLpGH",
        "colab_type": "text"
      },
      "cell_type": "markdown",
      "source": [
        "## Evaluate the model's effectiveness\n",
        "\n"
      ]
    },
    {
      "metadata": {
        "id": "z-EvK7hGL0d8",
        "colab_type": "text"
      },
      "cell_type": "markdown",
      "source": [
        "### Setup the test dataset\n",
        "\n"
      ]
    },
    {
      "metadata": {
        "id": "Ps3_9dJ3Lodk",
        "colab_type": "code",
        "colab": {
          "base_uri": "https://localhost:8080/",
          "height": 17
        },
        "outputId": "7d523b35-42c6-4c3a-dba2-16b557453dc7"
      },
      "cell_type": "code",
      "source": [
        "test_url = \"http://download.tensorflow.org/data/iris_test.csv\"\n",
        "\n",
        "test_fp = tf.keras.utils.get_file(fname=os.path.basename(test_url),\n",
        "                                  origin=test_url)\n",
        "\n",
        "test_dataset = tf.data.TextLineDataset(test_fp)\n",
        "test_dataset = test_dataset.skip(1)             # skip header row\n",
        "test_dataset = test_dataset.map(parse_csv)      # parse each row with the funcition created earlier\n",
        "test_dataset = test_dataset.shuffle(1000)       # randomize\n",
        "test_dataset = test_dataset.batch(32)           # use the same batch size as the training set"
      ],
      "execution_count": 12,
      "outputs": []
    },
    {
      "metadata": {
        "id": "HFuOKXJdMAdm",
        "colab_type": "text"
      },
      "cell_type": "markdown",
      "source": [
        "### Evaluate the model on the test dataset\n",
        "\n"
      ]
    },
    {
      "metadata": {
        "id": "Tw03-MK1cYId",
        "colab_type": "code",
        "colab": {
          "base_uri": "https://localhost:8080/",
          "height": 34
        },
        "outputId": "1a059c4e-759d-4b66-9ff2-ea882a1c75f2"
      },
      "cell_type": "code",
      "source": [
        "test_accuracy = tfe.metrics.Accuracy()\n",
        "\n",
        "for (x, y) in test_dataset:\n",
        "  prediction = tf.argmax(model(x), axis=1, output_type=tf.int32)\n",
        "  test_accuracy(prediction, y)\n",
        "\n",
        "print(\"Test set accuracy: {:.3%}\".format(test_accuracy.result()))"
      ],
      "execution_count": 13,
      "outputs": [
        {
          "output_type": "stream",
          "text": [
            "Test set accuracy: 96.667%\n"
          ],
          "name": "stdout"
        }
      ]
    }
  ]
}